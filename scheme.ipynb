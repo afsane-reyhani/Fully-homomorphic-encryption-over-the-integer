{
 "cells": [
  {
   "cell_type": "markdown",
   "metadata": {},
   "source": [
    "# Fully Homomorphic Encryption over the Integers"
   ]
  },
  {
   "cell_type": "markdown",
   "metadata": {},
   "source": [
    "## simple symmetric encryption scheme\n",
    "### KeyGen:  The key is an odd integer, chosen from some interval $p ∈ [2^{η−1}, 2^η)$.\n",
    "### Encrypt(p, m): To encrypt a bit $m ∈ \\{0, 1\\}$ , $c = pq + 2r + m$ where the integers q, r are chosen at random in some other prescribed intervals, such that 2r is smaller than $\\frac{p}{2}$in absolute value.\n",
    "### Decrypt(p, c): Output (c mod p) mod 2."
   ]
  },
  {
   "cell_type": "markdown",
   "metadata": {},
   "source": [
    "## A Somewhat Homomorphic Encryption Scheme"
   ]
  },
  {
   "cell_type": "markdown",
   "metadata": {},
   "source": [
    "### KeyGen(λ). \n",
    "### The secret key is an odd η-bit integer: $ p ← (2Z + 1) ∩ [2η−1, 2η)$ \n",
    "### publc key is sample $x_i = pq+r$ where the integers q, r are chosen at random. $i=0,1,...,τ$\n",
    "که $x_0$ بزرگترین آنهاست و فرد است و باقی مانده آن بر $p$ زوج است.\n",
    "### Encrypt(pk, m ∈ {0, 1})  \n",
    "### Choose a random subset $S ⊆ \\{1, 2,...,τ\\}$ and a random integer r in $(−2^ρ, 2^ρ)$, and output $c ← [m + 2r + 2\\sum_{i∈S} x_i]_{x_0}$.\n",
    "### Evaluate(pk, C, $c_1,...,c_t$).\n",
    "### Given the (binary) circuit $C_E$ with t inputs, and t ciphertexts $c_i$, apply the (integer) addition and multiplication gates of $C_E$ to the ciphertexts, performing all the operations over the integers, and return the resulting integer.\n",
    "### Decrypt(sk, c). Output $m ← (c \\quad mod \\quad p)\\quad mod\\quad 2$."
   ]
  },
  {
   "cell_type": "markdown",
   "metadata": {},
   "source": [
    "# Optimizations\n",
    "## Modular-reduction during Evaluate.\n",
    "### To reduce the ciphertext size during Evaluate, we can add to the public key more elements of the form $\\hat{x}_i = \\hat{q_i}p+ 2\\hat{r}_i$ where the $\\hat{r}_i$’s are chosen as usual from the interval $(−2^ρ, 2^ρ)$ but the qi’s are chosen much larger than for the other public key elements. Specifically, for $i = 0,...γ$, we set:\n",
    "### $\\hat{q}_i ← Z ∩ [\\frac{2γ+i−1}{p}, \\frac{2γ+i}{p}),\\quad  \\hat{r}_i← Z ∩ (−2^ρ, 2^ρ), \\quad  \\hat{x}_i ← 2(\\hat{q_i} · p + \\hat{r}_i)$\n",
    "### thus getting $\\hat{x}_i ∈ [2^{γ+i}, 2^{γ+i+1}]$ . During Evaluate, every time we have a ciphertext that grows beyond $2γ$, we reduce it first modulo $\\hat{x}_γ$, then modulo $\\hat{x}_{γ−1}$, and so on all the way down to $\\hat{x}_0$, at which point we again have a ciphertext of bit-length no more than $γ$.\n"
   ]
  },
  {
   "cell_type": "markdown",
   "metadata": {},
   "source": [
    "رمزگشایی را می توان به صورت\n",
    "\n",
    "\n",
    "$ \\hat{m} ← [c- \\lfloor \\frac{c}{p} \\rceil]_2$"
   ]
  },
  {
   "cell_type": "markdown",
   "metadata": {},
   "source": [
    "به کلید عمومی اطلاعات اضافی از کلید خصوصی را اضافه می کنیم و از این اطلاعات اضافی برای\n",
    "$\"post process\"$\n",
    "استفاده میکنیم.\n",
    "\n",
    "متن رمز $\"post process\"$ شده میتواند به صورت کارامدتری از متن رمز اصلی رمزگشایی شود.\n",
    "بنابراین طرح قابل $bootstrappable$  شدن است.\n",
    "\n",
    "اساسا با فرض اینکه اطلاعات اضافی در کلید عمومی به مهاجم کمک نمیکند که این طرح را بشکند.\n"
   ]
  },
  {
   "cell_type": "markdown",
   "metadata": {},
   "source": [
    "$secret key sk^* =p$\n",
    "\n",
    "$pk^*$ \n",
    "\n",
    "ما به کلید عمومی \n",
    "$Y=\\{y_1,...,y_{Θ}\\}$\n",
    "را اضافه میکنیم.\n",
    "\n",
    "به طوری یک زیرمجموعه $sparse$ $S ⊂ \\{1,...,Θ\\}$ \n",
    "از اندازه $\\theta$ وجود دارد که :\n",
    "\n",
    "$\\sum_{i \\in s } y_i \\sim \\frac{1}{p} \\quad (mod 2)$\n",
    "\n",
    "ما همچنین کلید مخفی را با بردار $indicator$ زیرمجموعه $S$ جایگزین میکنیم."
   ]
  },
  {
   "cell_type": "markdown",
   "metadata": {},
   "source": [
    "\n",
    "\n",
    "\n",
    "\n",
    "\n"
   ]
  },
  {
   "cell_type": "markdown",
   "metadata": {},
   "source": [
    "$KeyGen$:\n",
    "\n",
    "$sk=p$\n",
    "\n",
    "$pk = $ مثل قبل \n",
    "\n",
    "$x_p ← \\lfloor \\frac{2^κ}{p} \\rceil$\n",
    "\n",
    "به صورت تصادفی یک بردار $Θ$ بیتی با وزن همینگ $\\theta$ انتخاب کنید .\n",
    "\n",
    "$s = < s_1,...,s_{\\theta}>$\n",
    "\n",
    "$S = \\{ i : s_i =1 \\}$\n",
    "\n",
    "عدد صحیح تصادفی مانند $u_i$  انتخاب میکنیم.\n",
    "\n",
    "$u_i \\in Z ∩ [0, 2^{κ+1}) \\quad i=1,...,Θ $\n",
    "\n",
    "مشروط بر اینکه:\n",
    "\n",
    "$\\sum_{i \\in S}u_i = x_p \\quad (mod \\quad 2^{k+1})$\n",
    "\n",
    "قرار میدهیم \n",
    "\n",
    "$y_i=\\frac{u_i}{2^k}$\n",
    "\n",
    "$Y = \\{ y_1,...,y_{\\theta} \\}$\n",
    "\n",
    "همچنین هر $y_i$ یک عدد مثبت کوچکتر از 2 است با $k$ بیت دقت.\n",
    "\n",
    "همچنین \n",
    "\n",
    "$ [ \\sum_{i \\in S} y_i ]_2 = ( \\frac{1}{p}) - \\Delta p$\n",
    "\n",
    "$ \\Delta p < 2 ^{-k}$\n",
    " \n",
    " و خروجی کلید خصوصی $sk$ و کلید عمومی  $(pk,y)$ است."
   ]
  },
  {
   "attachments": {},
   "cell_type": "markdown",
   "metadata": {},
   "source": [
    "$ Encrypt and Evaluate $\n",
    "\n",
    "متن رمز $c^*$  را مانند قبل تولید میکنیم.\n",
    "\n",
    "پس برای  $i \\in \\{ 1 , ... ,Θ \\} $ قرار میدهیم:\n",
    "\n",
    "$z_i ← {c^* . y_i]_2$\n",
    "\n",
    "با نگه داشتن فقط $n = \\lceil log \\theta \\rceil +3$ بیت از دقت برای هر $z_i$ \n",
    "\n",
    "خروجی هر دو\n",
    "\n",
    "$c^*$ و $Z = <z_1,..., z_Θ>$"
   ]
  },
  {
   "cell_type": "markdown",
   "metadata": {},
   "source": [
    "\n",
    "$Decrypt$\n",
    "\n",
    "خروجی \n",
    "\n",
    "$\\hat{m} ← [c∗ − \\lfloor \\sum_{i}s_iz_i\\rceil ]_2$\n"
   ]
  },
  {
   "cell_type": "code",
   "execution_count": 1,
   "metadata": {},
   "outputs": [],
   "source": [
    "import numpy as np\n",
    "import random\n",
    "import sympy\n",
    "from functools import reduce \n",
    "import math\n",
    "from fractions import Fraction\n",
    "from itertools import islice"
   ]
  },
  {
   "cell_type": "markdown",
   "metadata": {},
   "source": [
    "## $\\lfloor \\frac{a}{b} \\rceil$   Gives the nearest integer to $\\frac{a}{b}$"
   ]
  },
  {
   "cell_type": "code",
   "execution_count": 2,
   "metadata": {},
   "outputs": [],
   "source": [
    "def QuotientNear(a,b):\n",
    "    return (2*a+b)//(2*b)"
   ]
  },
  {
   "cell_type": "markdown",
   "metadata": {},
   "source": [
    "## $ a \\quad mod \\quad b = a - b \\lfloor \\frac{a}{b} \\rceil $  Computes a mod b with $a \\in [\\frac{-b}{2},\\frac{b}{2}]$"
   ]
  },
  {
   "cell_type": "code",
   "execution_count": 3,
   "metadata": {},
   "outputs": [],
   "source": [
    "def modNear(a,b):\n",
    "    return a-b*QuotientNear(a,b)"
   ]
  },
  {
   "cell_type": "markdown",
   "metadata": {},
   "source": [
    "## $ c \\quad mod \\quad p$"
   ]
  },
  {
   "cell_type": "code",
   "execution_count": 4,
   "metadata": {},
   "outputs": [],
   "source": [
    "def mod(c, p):\n",
    "    return c % p"
   ]
  },
  {
   "cell_type": "markdown",
   "metadata": {},
   "source": [
    "## return one prim number  of (a,b)"
   ]
  },
  {
   "cell_type": "code",
   "execution_count": 5,
   "metadata": {},
   "outputs": [],
   "source": [
    "def random_prime(a,b):\n",
    "    return sympy.randprime(a,b)"
   ]
  },
  {
   "cell_type": "markdown",
   "metadata": {},
   "source": [
    "## return one integer number of (a,b)"
   ]
  },
  {
   "cell_type": "code",
   "execution_count": 6,
   "metadata": {},
   "outputs": [],
   "source": [
    "def random_element(a,b): #TODO hook up with seed??\n",
    "    return random.randint(a,b)"
   ]
  },
  {
   "cell_type": "markdown",
   "metadata": {},
   "source": [
    "## if seed = 0, use rand and return it, else use seed"
   ]
  },
  {
   "cell_type": "code",
   "execution_count": 7,
   "metadata": {},
   "outputs": [],
   "source": [
    "def set_random_seed(seed): \n",
    "    s = seed\n",
    "    if (seed == 0):\n",
    "            random.seed()\n",
    "            s = random.randint(2, 2**30) #TODO\n",
    "            random.seed(s)\n",
    "    else:\n",
    "            random.seed(s)\n",
    "    return s"
   ]
  },
  {
   "cell_type": "markdown",
   "metadata": {},
   "source": [
    "##   Computes the sum of the binary vectors a and b, modulo $2^n$ where n is the length of the vectors a and b"
   ]
  },
  {
   "cell_type": "code",
   "execution_count": 8,
   "metadata": {},
   "outputs": [],
   "source": [
    "def sumBinary(a,b):\n",
    "        c=[a[0]+b[0]]\n",
    "        carry=a[0]*b[0]\n",
    "\n",
    "        for i in range(1,len(a)-1):\n",
    "                    carry2=(a[i]+b[i])*carry+a[i]*b[i]    \n",
    "                    c.append(a[i]+b[i]+carry)             \n",
    "                    carry=carry2\n",
    "  \n",
    "        c.append(a[-1]+b[-1]+carry)\n",
    "        return c"
   ]
  },
  {
   "cell_type": "markdown",
   "metadata": {},
   "source": [
    "## convert a positive integer x into binary"
   ]
  },
  {
   "cell_type": "code",
   "execution_count": 9,
   "metadata": {},
   "outputs": [],
   "source": [
    "def digits(x): #always binary\n",
    "            le = list('{0:0b}'.format(x))\n",
    "            le.reverse()\n",
    "            return le"
   ]
  },
  {
   "cell_type": "markdown",
   "metadata": {},
   "source": [
    "## Converts a positive integer x into binary with l digits"
   ]
  },
  {
   "cell_type": "code",
   "execution_count": 10,
   "metadata": {},
   "outputs": [],
   "source": [
    "def toBinary(x,l):\n",
    "        return digits(x+2**l)[:-1]"
   ]
  },
  {
   "cell_type": "markdown",
   "metadata": {},
   "source": [
    "## Euclidean algorithm developed to find multiplicative inverse a  mod b"
   ]
  },
  {
   "cell_type": "code",
   "execution_count": 11,
   "metadata": {},
   "outputs": [],
   "source": [
    "def mul_inv(a, b):\n",
    "    b0 = b\n",
    "    x0, x1 = 0, 1\n",
    "    if b == 1: return 1\n",
    "    while a > 1:\n",
    "        q = a // b\n",
    "        a, b = b, a%b\n",
    "        x0, x1 = x1 - q * x0, x0\n",
    "    if x1 < 0: x1 += b0\n",
    "    return x1"
   ]
  },
  {
   "attachments": {},
   "cell_type": "markdown",
   "metadata": {},
   "source": [
    "## chinese remainder theorem"
   ]
  },
  {
   "cell_type": "code",
   "execution_count": 12,
   "metadata": {},
   "outputs": [],
   "source": [
    "def CRT(n, a): \n",
    "    sum = 0\n",
    "    prod = reduce(lambda a, b: a*b, n)\n",
    "    for n_i, a_i in zip(n, a):\n",
    "        p = prod // n_i\n",
    "        sum += a_i * mul_inv(p, n_i) * p\n",
    "    return sum % prod"
   ]
  },
  {
   "cell_type": "code",
   "execution_count": 13,
   "metadata": {},
   "outputs": [],
   "source": [
    "def kd(i,j):\n",
    "    if (i == j):\n",
    "        return 1\n",
    "    else:\n",
    "        return 0"
   ]
  },
  {
   "cell_type": "code",
   "execution_count": 14,
   "metadata": {},
   "outputs": [],
   "source": [
    "def arraymult(c,a):\n",
    "    return [c*int(xi) for xi in a]"
   ]
  },
  {
   "cell_type": "code",
   "execution_count": 15,
   "metadata": {},
   "outputs": [],
   "source": [
    "class Pk(object):\n",
    "  def __init__(self, key_size):\n",
    "    self.lam = 12\n",
    "    self.rho = 26 #p\n",
    "    self.eta = 1988 #(n)\n",
    "    self.gam = 147456 #y\n",
    "    self.Theta = 150 #O\n",
    "    self.alpha = 936\n",
    "    self.tau = 188\n",
    "    self.l = 10\n",
    "    if (key_size==0):\n",
    "        print(\"Making toy key\")\n",
    "        self.lam = 42\n",
    "        self.rho = 26\n",
    "        self.eta = 988\n",
    "        self.gam = 290000\n",
    "        self.Theta = 150\n",
    "        self.alpha = 936\n",
    "        self.tau = 188\n",
    "        self.l = 10\n",
    "    elif(key_size==1):\n",
    "        print(\"making small key\")\n",
    "        self.lam = 52\n",
    "        self.rho = 41\n",
    "        self.eta = 1558\n",
    "        self.gam = 1600000\n",
    "        self.Theta = 555\n",
    "        self.alpha = 1476\n",
    "        self.tau = 661\n",
    "        self.l = 37\n",
    "    elif (key_size==2):\n",
    "        print(\"making medium key\")\n",
    "        self.lam = 62\n",
    "        self.rho = 56\n",
    "        self.eta = 2128\n",
    "        self.gam = 8500000\n",
    "        self.Theta = 2070\n",
    "        self.alpha = 2016\n",
    "        self.tau = 2410\n",
    "        self. l = 138\n",
    "    elif (key_size == 3):\n",
    "        self.lam = 72;\n",
    "        self.rho = 71;\n",
    "        self.eta = 2698;\n",
    "        self.gam = 39000000;\n",
    "        self.Theta = 7965;\n",
    "        self.alpha = 2556;\n",
    "        self.tau = 8713;\n",
    "        self.l = 531;\n",
    "\n",
    " \n",
    "    self.alphai = self.lam + self.alpha\n",
    "    self.rhoi = self.lam + self.alpha\n",
    "    self.n = 4;\n",
    "    self.kap = 64*(self.gam//64+1)-1\n",
    "    self.log = round(math.log2(self.l))\n",
    "    self.theta = self.Theta//self.l\n",
    "\n",
    "    self.p = [random_prime(2**(self.eta-1), 2**self.eta) for i in range(self.l)] #fix TODO ?????\n",
    "    self.pi = reduce((lambda x, y: x * y), self.p) #product of p\n",
    "\n",
    "    self.q0 = (2**self.gam)\n",
    "    while (self.q0 > (2**self.gam)//self.pi):\n",
    "      self.q0prime1 = random_prime(0, 2**(self.lam**2))\n",
    "      self.q0prime2 = random_prime(0, 2**(self.lam**2))\n",
    "      self.q0 = self.q0prime1*self.q0prime2\n",
    "    self.x0=self.pi*self.q0\n",
    "    \n",
    "    self.x_seed = random.randint(2, 2**30)\n",
    "    self.xi_seed = random.randint(2, 2**30)\n",
    "    self.ii_seed = random.randint(2, 2**30)\n",
    "\n",
    "    self.x_deltas = make_deltas(self,self.tau,self.rhoi-1,self.x_seed,0)\n",
    "    self.xi_deltas = make_deltas(self,self.l,self.rho,self.xi_seed,1)\n",
    "    self.ii_deltas = make_deltas(self,self.l,self.rho,self.ii_seed,2)\n",
    "   \n",
    "    self.B=self.Theta//self.theta\n",
    "\n",
    "    self.s = [[0 for j in range(self.Theta)] for k in range(self.l)]\n",
    "\n",
    "    for j in range(self.l):\n",
    "      sj = []\n",
    "      \n",
    "      for t in range(self.theta):\n",
    "        if (t==0): #if s[j][j] is in it\n",
    "          fill = [0 for i in range(self.B)]\n",
    "          fill[j] = 1\n",
    "          sj = sj + fill\n",
    "        else:\n",
    "          fill = [0 for i in range(self.B)]\n",
    "          sj = sj + fill\n",
    "      self.s[j] = sj\n",
    "\n",
    "    for t in range(1,self.theta):\n",
    "      sri = random.sample(range(0, self.B), self.l)\n",
    "      for j in range(self.l):\n",
    "        k = (self.B*t)+sri[j]\n",
    "        self.s[j][k] = 1\n",
    "\n",
    "    self.verts = [[0 for j in range(self.l)] for k in range(self.Theta)]\n",
    "\n",
    "    for i in range(self.Theta):\n",
    "      for j in range(self.l):\n",
    "        self.verts[i][j] = self.s[j][i]\n",
    "\n",
    "    self.u_seed = random.randint(2, 2**30)\n",
    "    self.o_seed = random.randint(2, 2**30)\n",
    "\n",
    "    self.u_front = make_u_front(self, self.u_seed)\n",
    "\n",
    "    self.o_deltas = make_deltas(self,self.Theta,self.rho,self.o_seed,3)\n",
    "\n",
    "  def encrypt(self,m): #vector in {0,1}^l\n",
    "    b = [random_element(-2**self.alpha,2**self.alpha) for i in range(self.tau)]\n",
    "    bi= [random_element(-2**self.alphai,2**self.alphai) for i in range(self.l)]\n",
    "\n",
    "    x = [c-d for c,d in zip(make_pri(self.x0,self.tau,self.x_seed),self.x_deltas)]\n",
    "    xi= [c-d for c,d in zip(make_pri(self.x0,self.l,self.xi_seed),self.xi_deltas)]\n",
    "    ii= [c-d for c,d in zip(make_pri(self.x0,self.l,self.ii_seed),self.ii_deltas)]\n",
    "\n",
    "    sums=sum([mj*xij for mj,xij in zip(m,xi)])+sum([bij*iij for bij,iij in zip(bi,ii)])+sum([bj*xj for bj,xj in zip(b,x)])\n",
    "\n",
    "    return modNear(sums,self.x0)\n",
    "\n",
    "  def decrypt(self,c):\n",
    "    return [mod(modNear(c,self.p[i]),2) for i in range(self.l)]\n",
    "\n",
    "  def decrypt_squashed(self,c):\n",
    "    y = [Fraction(ui)/Fraction(2**self.kap) for ui in self.u]\n",
    "    z = [modNear(round((Fraction(c)*yi),4),2) for yi in y]\n",
    "\n",
    "    m = [0 for i in range(self.l)]\n",
    "    for j in range(self.l):\n",
    "      sums = sum([sji*zi for sji,zi in zip(self.s[j],z)])\n",
    "      sumsb = sum([mod(sji*zi,2) for sji,zi in zip(self.s[j],z)])\n",
    "      \n",
    "      m[j] = mod(int(round(sums)),2) ^ mod(c,2)\n",
    "    return (m)\n",
    "\n",
    "  def add(self,c1,c2):\n",
    "    return mod(c1+c2,self.x0)\n",
    "\n",
    "  def sub(self,c1,c2):\n",
    "    return mod(c1-c2,self.x0)\n",
    "\n",
    "  def mult(self,c1,c2):\n",
    "    return mod(c1*c2,self.x0)\n",
    "\n",
    "  def __repr__(self):\n",
    "    return \"<Pk with rho=%d, eta=%d, gam=%d>\" % (self.rho,self.eta,self.gam) \n",
    "\n",
    "  def recrypt(self,c):\n",
    "    #get u\n",
    "    u_draft = make_pri(2**(self.kap+1),self.Theta,self.u_seed)\n",
    "    u = self.u_front+u_draft[self.l:]\n",
    "\n",
    "    #\"expand\"\n",
    "    y = [Fraction(ui)/Fraction(2**self.kap) for ui in u]\n",
    "    z = [mod(round((Fraction(c)*yi),4),2) for yi in y]#adjust bits of precision\n",
    "    \n",
    "    adjz = [int(round(zi*16)) for zi in z]\n",
    "\n",
    "    #put z in binary arrays\n",
    "    zbin = [toBinary(zi,self.n+1) for zi in adjz]\n",
    "   \n",
    "\n",
    "    #get o\n",
    "    o = [c-d for c,d in zip(make_pri(self.x0,self.Theta,self.o_seed),self.o_deltas)]\n",
    "   \n",
    "    li = [arraymult(ski,cei) for ski,cei in zip(o,zbin)]\n",
    "\n",
    "    Q_adds = [0 for i in range(self.n+1)]\n",
    "\n",
    "    for t in range(self.Theta):\n",
    "      Q_adds = sumBinary(Q_adds,li[t])\n",
    "      Q_adds = [mod(qa,self.x0) for qa in Q_adds]\n",
    "\n",
    "    rounded = Q_adds[-1] + Q_adds[-2] #\"round\"\n",
    " \n",
    "    final = rounded + (c & 1)\n",
    "\n",
    "    return final\n"
   ]
  },
  {
   "cell_type": "code",
   "execution_count": 16,
   "metadata": {},
   "outputs": [],
   "source": [
    "class Ciphertext():\n",
    "    def __init__(self,val_,pk_):\n",
    "        self.val,self.pk=val_,pk_\n",
    "\n",
    "    @staticmethod\n",
    "    def encrypt(pk,m):\n",
    "        return Ciphertext(pk.encrypt(m),pk)\n",
    "\n",
    "    def decrypt(self):\n",
    "        m=self.pk.decrypt(self.val)\n",
    "        return m\n",
    "\n",
    "    def __add__(self,x):\n",
    "        return self.__class__(self.pk.add(self.val,x.val),self.pk)\n",
    "\n",
    "    def __mul__(self,x):\n",
    "        return self.__class__(self.pk.mult(self.val,x.val),self.pk)\n",
    "\n",
    "    def scalmult(self,x):\n",
    "        if isinstance(x,list):\n",
    "            print(\"multing list\")\n",
    "\n",
    "            return [self.__class__(self.val*int(xi),self.pk) for xi in x]\n",
    "        else:\n",
    "            return self.__class__(self.val*x,self.pk)\n",
    "\n",
    "    def recrypt(self):\n",
    "            return Ciphertext(self.pk.recrypt(self.val),self.pk)"
   ]
  },
  {
   "cell_type": "code",
   "execution_count": 17,
   "metadata": {},
   "outputs": [],
   "source": [
    "def make_pri(x0,ell,seed): #generates X\n",
    "    set_random_seed(seed)\n",
    "    chi = [random_element(0,x0) for i in range(ell)]\n",
    "    set_random_seed(0)\n",
    "    return chi"
   ]
  },
  {
   "cell_type": "code",
   "execution_count": 18,
   "metadata": {},
   "outputs": [],
   "source": [
    "def make_deltas(pk,lenv,rho,seed,cr):\n",
    "        pr=make_pri(pk.x0,lenv,seed)\n",
    " \n",
    "        r=[[random_element(-2**rho+1,2**rho) for i in range(pk.l)] for j in range(lenv)]\n",
    "        E=[random_element(0,(2**(pk.lam+pk.log+(pk.l*pk.eta)))//pk.pi) for i in range(lenv)] #added from paper\n",
    "        delta=[0 for i in range(lenv)]\n",
    "\n",
    "        if (cr == 0):#x\n",
    "            crts = [CRT(pk.p,[2*ri for ri in r[j]]) for j in range(lenv)]\n",
    "        elif (cr == 1):#xi\n",
    "            crts = [CRT(pk.p,[2*ri+kd(i,j) for ri,i in zip(r[j],range(pk.l))]) for j in range(lenv)]\n",
    "        elif (cr == 2):#ii\n",
    "            crts = [CRT(pk.p,[2*ri+(kd(i,j)*(2**(pk.rhoi+1))) for ri,i in zip(r[j],range(pk.l))]) for j in range(lenv)]\n",
    "        else: #o\n",
    "            crts = [CRT(pk.p,[2*ri+si for ri,si in zip(r[j],pk.verts[j])]) for j in range(lenv)]\n",
    "\n",
    "        temp=[mod(Xi,pk.pi) for Xi in pr]\n",
    "        delta=[te+(ei*pk.pi)-crti for te,ei,crti in zip(temp,E,crts)] #changed from paper\n",
    "        return delta"
   ]
  },
  {
   "cell_type": "code",
   "execution_count": 19,
   "metadata": {},
   "outputs": [],
   "source": [
    "def make_u_front(pk,seed):\n",
    "        pr=make_pri(2**(pk.kap+1),pk.Theta,seed) #u draft\n",
    "        u = pr\n",
    "\n",
    "        n=0\n",
    "        for j in range(pk.l):\n",
    "            xpj = (2**pk.kap)//pk.p[j]\n",
    "\n",
    "            su = [0 for i in range(pk.Theta)]\n",
    "            for i in range(pk.Theta):\n",
    "                su[i] = pk.s[j][i]*u[i]\n",
    "    \n",
    "            sumt = sum(su)\n",
    "            sumt = mod(sumt, 2**(pk.kap+1))\n",
    "\n",
    "            v = n\n",
    "            n = n+1\n",
    "\n",
    "            #change corresponding u\n",
    "            su[v] = 0\n",
    "            sumv = sum(su)\n",
    "            k1 = 2**(pk.kap+1)\n",
    "            nu = k1 - sumv + xpj\n",
    "            while (nu < 0) or (nu >= k1):\n",
    "                                 if (nu < 0):\n",
    "                                           nu = nu+k1\n",
    "                                 elif ():\n",
    "                                           nu = nu-k1\n",
    "    \n",
    "            u[v] = nu\n",
    "\n",
    "        return u[:pk.l]\n"
   ]
  },
  {
   "cell_type": "code",
   "execution_count": null,
   "metadata": {},
   "outputs": [],
   "source": []
  }
 ],
 "metadata": {
  "kernelspec": {
   "display_name": "Python 3",
   "language": "python",
   "name": "python3"
  },
  "language_info": {
   "codemirror_mode": {
    "name": "ipython",
    "version": 3
   },
   "file_extension": ".py",
   "mimetype": "text/x-python",
   "name": "python",
   "nbconvert_exporter": "python",
   "pygments_lexer": "ipython3",
   "version": "3.7.4"
  }
 },
 "nbformat": 4,
 "nbformat_minor": 2
}
