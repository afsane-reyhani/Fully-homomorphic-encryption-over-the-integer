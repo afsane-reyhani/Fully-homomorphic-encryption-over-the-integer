{
 "cells": [
  {
   "cell_type": "code",
   "execution_count": 1,
   "metadata": {},
   "outputs": [
    {
     "name": "stdout",
     "output_type": "stream",
     "text": [
      "importing Jupyter notebook from scheme.ipynb\n"
     ]
    }
   ],
   "source": [
    "import import_ipynb\n",
    "import scheme"
   ]
  },
  {
   "cell_type": "code",
   "execution_count": 2,
   "metadata": {},
   "outputs": [],
   "source": [
    "from timeit import default_timer as timer"
   ]
  },
  {
   "cell_type": "code",
   "execution_count": 3,
   "metadata": {},
   "outputs": [
    {
     "name": "stdout",
     "output_type": "stream",
     "text": [
      "Key Time = \n",
      "75.47516392\n",
      "Encode Time = \n",
      "0.012390225000004307\n",
      "Decode Time = \n",
      "0.0015506250000072441\n",
      "[0, 0, 0, 0, 0, 0, 0, 0, 0, 1]\n",
      "Recode Time = \n",
      "20.17848042\n",
      "[1, 0, 1, 0, 1, 0, 1, 0, 1, 0]\n",
      "[1, 0, 1, 0, 0, 1, 1, 0, 0, 1]\n",
      "[1, 1, 0, 0, 1, 0, 0, 1, 0, 0]\n"
     ]
    }
   ],
   "source": [
    "#test\n",
    "\n",
    "start = timer()\n",
    "pk = scheme.Pk(-1)\n",
    "end = timer()\n",
    "print(\"Key Time = \") \n",
    "print(end - start)\n",
    "\n",
    "c1 = scheme.Ciphertext.encrypt(pk, [0,0,0,0,0,0,0,0,0,1])\n",
    "start = timer()\n",
    "c0 = scheme.Ciphertext.encrypt(pk, [0,1,0,1,0,1,0,1,0,1])\n",
    "end = timer()\n",
    "print(\"Encode Time = \")\n",
    "print(end - start)\n",
    "\n",
    "c1.decrypt()\n",
    "start = timer()\n",
    "c0.decrypt()\n",
    "end = timer()\n",
    "print(\"Decode Time = \")\n",
    "print(end - start)\n",
    "\n",
    "\n",
    "print((c1.recrypt()).decrypt())\n",
    "\n",
    "c11 = scheme.Ciphertext.encrypt(pk, [1,1,1,1,1,1,1,1,1,1])\n",
    "c00 = scheme.Ciphertext.encrypt(pk, [0,1,0,1,0,1,0,1,0,1])\n",
    "\n",
    "ca = c11*c00\n",
    "ca.recrypt()\n",
    "start = timer()\n",
    "ca.recrypt()\n",
    "end = timer()\n",
    "print(\"Recode Time = \")\n",
    "print(end - start)\n",
    "\n",
    "cb = c11+c00\n",
    "print(cb.decrypt())\n",
    "  \n",
    "print((ca.recrypt()).decrypt())\n",
    "\n",
    "print((c1*c1).decrypt())\n"
   ]
  },
  {
   "cell_type": "code",
   "execution_count": null,
   "metadata": {},
   "outputs": [],
   "source": []
  }
 ],
 "metadata": {
  "kernelspec": {
   "display_name": "Python 3",
   "language": "python",
   "name": "python3"
  },
  "language_info": {
   "codemirror_mode": {
    "name": "ipython",
    "version": 3
   },
   "file_extension": ".py",
   "mimetype": "text/x-python",
   "name": "python",
   "nbconvert_exporter": "python",
   "pygments_lexer": "ipython3",
   "version": "3.7.4"
  }
 },
 "nbformat": 4,
 "nbformat_minor": 2
}
